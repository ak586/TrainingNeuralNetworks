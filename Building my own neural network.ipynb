{
  "nbformat": 4,
  "nbformat_minor": 0,
  "metadata": {
    "colab": {
      "provenance": []
    },
    "kernelspec": {
      "name": "python3",
      "display_name": "Python 3"
    },
    "language_info": {
      "name": "python"
    }
  },
  "cells": [
    {
      "cell_type": "markdown",
      "source": [
        "# Building my own neural network"
      ],
      "metadata": {
        "id": "6xllYk9zZHjw"
      }
    },
    {
      "cell_type": "markdown",
      "source": [
        "## install dependencies"
      ],
      "metadata": {
        "id": "34xIEedYZS6T"
      }
    },
    {
      "cell_type": "code",
      "source": [
        "!pip install scikit-learn"
      ],
      "metadata": {
        "colab": {
          "base_uri": "https://localhost:8080/"
        },
        "id": "OIFjgzpDoQX6",
        "outputId": "867bc82a-4e52-42c9-a23b-1867a5a68986"
      },
      "execution_count": 1,
      "outputs": [
        {
          "output_type": "stream",
          "name": "stdout",
          "text": [
            "Requirement already satisfied: scikit-learn in /usr/local/lib/python3.10/dist-packages (1.2.2)\n",
            "Requirement already satisfied: numpy>=1.17.3 in /usr/local/lib/python3.10/dist-packages (from scikit-learn) (1.23.5)\n",
            "Requirement already satisfied: scipy>=1.3.2 in /usr/local/lib/python3.10/dist-packages (from scikit-learn) (1.11.4)\n",
            "Requirement already satisfied: joblib>=1.1.1 in /usr/local/lib/python3.10/dist-packages (from scikit-learn) (1.3.2)\n",
            "Requirement already satisfied: threadpoolctl>=2.0.0 in /usr/local/lib/python3.10/dist-packages (from scikit-learn) (3.2.0)\n"
          ]
        }
      ]
    },
    {
      "cell_type": "code",
      "execution_count": 2,
      "metadata": {
        "id": "tpwDD2a0n1M-"
      },
      "outputs": [],
      "source": [
        "import numpy as np\n",
        "import pandas as pd\n",
        "import torch\n",
        "import torch.nn as nn\n",
        "from torch.utils.data import Dataset\n",
        "from sklearn.preprocessing import  StandardScaler"
      ]
    },
    {
      "cell_type": "markdown",
      "source": [
        "## Import the dataset"
      ],
      "metadata": {
        "id": "v608QBjuZWoz"
      }
    },
    {
      "cell_type": "code",
      "source": [
        "data=pd.read_csv('diabetes.csv')\n",
        "data.head()"
      ],
      "metadata": {
        "colab": {
          "base_uri": "https://localhost:8080/",
          "height": 224
        },
        "id": "0CLysIVjorqB",
        "outputId": "048fbf86-234c-455d-eff5-6ec5c0596777"
      },
      "execution_count": 3,
      "outputs": [
        {
          "output_type": "execute_result",
          "data": {
            "text/plain": [
              "   Number of times pregnant  Plasma glucose concentration  \\\n",
              "0                         6                           148   \n",
              "1                         1                            85   \n",
              "2                         8                           183   \n",
              "3                         1                            89   \n",
              "4                         0                           137   \n",
              "\n",
              "   Diastolic blood pressure  Triceps skin fold thickness  \\\n",
              "0                        72                           35   \n",
              "1                        66                           29   \n",
              "2                        64                            0   \n",
              "3                        66                           23   \n",
              "4                        40                           35   \n",
              "\n",
              "   2-Hour serum insulin  Body mass index  Age     Class  \n",
              "0                     0             33.6   50  positive  \n",
              "1                     0             26.6   31  negative  \n",
              "2                     0             23.3   32  positive  \n",
              "3                    94             28.1   21  negative  \n",
              "4                   168             43.1   33  positive  "
            ],
            "text/html": [
              "\n",
              "  <div id=\"df-d613778c-4183-4b13-9625-e4639cd4f461\" class=\"colab-df-container\">\n",
              "    <div>\n",
              "<style scoped>\n",
              "    .dataframe tbody tr th:only-of-type {\n",
              "        vertical-align: middle;\n",
              "    }\n",
              "\n",
              "    .dataframe tbody tr th {\n",
              "        vertical-align: top;\n",
              "    }\n",
              "\n",
              "    .dataframe thead th {\n",
              "        text-align: right;\n",
              "    }\n",
              "</style>\n",
              "<table border=\"1\" class=\"dataframe\">\n",
              "  <thead>\n",
              "    <tr style=\"text-align: right;\">\n",
              "      <th></th>\n",
              "      <th>Number of times pregnant</th>\n",
              "      <th>Plasma glucose concentration</th>\n",
              "      <th>Diastolic blood pressure</th>\n",
              "      <th>Triceps skin fold thickness</th>\n",
              "      <th>2-Hour serum insulin</th>\n",
              "      <th>Body mass index</th>\n",
              "      <th>Age</th>\n",
              "      <th>Class</th>\n",
              "    </tr>\n",
              "  </thead>\n",
              "  <tbody>\n",
              "    <tr>\n",
              "      <th>0</th>\n",
              "      <td>6</td>\n",
              "      <td>148</td>\n",
              "      <td>72</td>\n",
              "      <td>35</td>\n",
              "      <td>0</td>\n",
              "      <td>33.6</td>\n",
              "      <td>50</td>\n",
              "      <td>positive</td>\n",
              "    </tr>\n",
              "    <tr>\n",
              "      <th>1</th>\n",
              "      <td>1</td>\n",
              "      <td>85</td>\n",
              "      <td>66</td>\n",
              "      <td>29</td>\n",
              "      <td>0</td>\n",
              "      <td>26.6</td>\n",
              "      <td>31</td>\n",
              "      <td>negative</td>\n",
              "    </tr>\n",
              "    <tr>\n",
              "      <th>2</th>\n",
              "      <td>8</td>\n",
              "      <td>183</td>\n",
              "      <td>64</td>\n",
              "      <td>0</td>\n",
              "      <td>0</td>\n",
              "      <td>23.3</td>\n",
              "      <td>32</td>\n",
              "      <td>positive</td>\n",
              "    </tr>\n",
              "    <tr>\n",
              "      <th>3</th>\n",
              "      <td>1</td>\n",
              "      <td>89</td>\n",
              "      <td>66</td>\n",
              "      <td>23</td>\n",
              "      <td>94</td>\n",
              "      <td>28.1</td>\n",
              "      <td>21</td>\n",
              "      <td>negative</td>\n",
              "    </tr>\n",
              "    <tr>\n",
              "      <th>4</th>\n",
              "      <td>0</td>\n",
              "      <td>137</td>\n",
              "      <td>40</td>\n",
              "      <td>35</td>\n",
              "      <td>168</td>\n",
              "      <td>43.1</td>\n",
              "      <td>33</td>\n",
              "      <td>positive</td>\n",
              "    </tr>\n",
              "  </tbody>\n",
              "</table>\n",
              "</div>\n",
              "    <div class=\"colab-df-buttons\">\n",
              "\n",
              "  <div class=\"colab-df-container\">\n",
              "    <button class=\"colab-df-convert\" onclick=\"convertToInteractive('df-d613778c-4183-4b13-9625-e4639cd4f461')\"\n",
              "            title=\"Convert this dataframe to an interactive table.\"\n",
              "            style=\"display:none;\">\n",
              "\n",
              "  <svg xmlns=\"http://www.w3.org/2000/svg\" height=\"24px\" viewBox=\"0 -960 960 960\">\n",
              "    <path d=\"M120-120v-720h720v720H120Zm60-500h600v-160H180v160Zm220 220h160v-160H400v160Zm0 220h160v-160H400v160ZM180-400h160v-160H180v160Zm440 0h160v-160H620v160ZM180-180h160v-160H180v160Zm440 0h160v-160H620v160Z\"/>\n",
              "  </svg>\n",
              "    </button>\n",
              "\n",
              "  <style>\n",
              "    .colab-df-container {\n",
              "      display:flex;\n",
              "      gap: 12px;\n",
              "    }\n",
              "\n",
              "    .colab-df-convert {\n",
              "      background-color: #E8F0FE;\n",
              "      border: none;\n",
              "      border-radius: 50%;\n",
              "      cursor: pointer;\n",
              "      display: none;\n",
              "      fill: #1967D2;\n",
              "      height: 32px;\n",
              "      padding: 0 0 0 0;\n",
              "      width: 32px;\n",
              "    }\n",
              "\n",
              "    .colab-df-convert:hover {\n",
              "      background-color: #E2EBFA;\n",
              "      box-shadow: 0px 1px 2px rgba(60, 64, 67, 0.3), 0px 1px 3px 1px rgba(60, 64, 67, 0.15);\n",
              "      fill: #174EA6;\n",
              "    }\n",
              "\n",
              "    .colab-df-buttons div {\n",
              "      margin-bottom: 4px;\n",
              "    }\n",
              "\n",
              "    [theme=dark] .colab-df-convert {\n",
              "      background-color: #3B4455;\n",
              "      fill: #D2E3FC;\n",
              "    }\n",
              "\n",
              "    [theme=dark] .colab-df-convert:hover {\n",
              "      background-color: #434B5C;\n",
              "      box-shadow: 0px 1px 3px 1px rgba(0, 0, 0, 0.15);\n",
              "      filter: drop-shadow(0px 1px 2px rgba(0, 0, 0, 0.3));\n",
              "      fill: #FFFFFF;\n",
              "    }\n",
              "  </style>\n",
              "\n",
              "    <script>\n",
              "      const buttonEl =\n",
              "        document.querySelector('#df-d613778c-4183-4b13-9625-e4639cd4f461 button.colab-df-convert');\n",
              "      buttonEl.style.display =\n",
              "        google.colab.kernel.accessAllowed ? 'block' : 'none';\n",
              "\n",
              "      async function convertToInteractive(key) {\n",
              "        const element = document.querySelector('#df-d613778c-4183-4b13-9625-e4639cd4f461');\n",
              "        const dataTable =\n",
              "          await google.colab.kernel.invokeFunction('convertToInteractive',\n",
              "                                                    [key], {});\n",
              "        if (!dataTable) return;\n",
              "\n",
              "        const docLinkHtml = 'Like what you see? Visit the ' +\n",
              "          '<a target=\"_blank\" href=https://colab.research.google.com/notebooks/data_table.ipynb>data table notebook</a>'\n",
              "          + ' to learn more about interactive tables.';\n",
              "        element.innerHTML = '';\n",
              "        dataTable['output_type'] = 'display_data';\n",
              "        await google.colab.output.renderOutput(dataTable, element);\n",
              "        const docLink = document.createElement('div');\n",
              "        docLink.innerHTML = docLinkHtml;\n",
              "        element.appendChild(docLink);\n",
              "      }\n",
              "    </script>\n",
              "  </div>\n",
              "\n",
              "\n",
              "<div id=\"df-9de0c8a3-d6b7-4dbe-af4a-436b3d0ff050\">\n",
              "  <button class=\"colab-df-quickchart\" onclick=\"quickchart('df-9de0c8a3-d6b7-4dbe-af4a-436b3d0ff050')\"\n",
              "            title=\"Suggest charts\"\n",
              "            style=\"display:none;\">\n",
              "\n",
              "<svg xmlns=\"http://www.w3.org/2000/svg\" height=\"24px\"viewBox=\"0 0 24 24\"\n",
              "     width=\"24px\">\n",
              "    <g>\n",
              "        <path d=\"M19 3H5c-1.1 0-2 .9-2 2v14c0 1.1.9 2 2 2h14c1.1 0 2-.9 2-2V5c0-1.1-.9-2-2-2zM9 17H7v-7h2v7zm4 0h-2V7h2v10zm4 0h-2v-4h2v4z\"/>\n",
              "    </g>\n",
              "</svg>\n",
              "  </button>\n",
              "\n",
              "<style>\n",
              "  .colab-df-quickchart {\n",
              "      --bg-color: #E8F0FE;\n",
              "      --fill-color: #1967D2;\n",
              "      --hover-bg-color: #E2EBFA;\n",
              "      --hover-fill-color: #174EA6;\n",
              "      --disabled-fill-color: #AAA;\n",
              "      --disabled-bg-color: #DDD;\n",
              "  }\n",
              "\n",
              "  [theme=dark] .colab-df-quickchart {\n",
              "      --bg-color: #3B4455;\n",
              "      --fill-color: #D2E3FC;\n",
              "      --hover-bg-color: #434B5C;\n",
              "      --hover-fill-color: #FFFFFF;\n",
              "      --disabled-bg-color: #3B4455;\n",
              "      --disabled-fill-color: #666;\n",
              "  }\n",
              "\n",
              "  .colab-df-quickchart {\n",
              "    background-color: var(--bg-color);\n",
              "    border: none;\n",
              "    border-radius: 50%;\n",
              "    cursor: pointer;\n",
              "    display: none;\n",
              "    fill: var(--fill-color);\n",
              "    height: 32px;\n",
              "    padding: 0;\n",
              "    width: 32px;\n",
              "  }\n",
              "\n",
              "  .colab-df-quickchart:hover {\n",
              "    background-color: var(--hover-bg-color);\n",
              "    box-shadow: 0 1px 2px rgba(60, 64, 67, 0.3), 0 1px 3px 1px rgba(60, 64, 67, 0.15);\n",
              "    fill: var(--button-hover-fill-color);\n",
              "  }\n",
              "\n",
              "  .colab-df-quickchart-complete:disabled,\n",
              "  .colab-df-quickchart-complete:disabled:hover {\n",
              "    background-color: var(--disabled-bg-color);\n",
              "    fill: var(--disabled-fill-color);\n",
              "    box-shadow: none;\n",
              "  }\n",
              "\n",
              "  .colab-df-spinner {\n",
              "    border: 2px solid var(--fill-color);\n",
              "    border-color: transparent;\n",
              "    border-bottom-color: var(--fill-color);\n",
              "    animation:\n",
              "      spin 1s steps(1) infinite;\n",
              "  }\n",
              "\n",
              "  @keyframes spin {\n",
              "    0% {\n",
              "      border-color: transparent;\n",
              "      border-bottom-color: var(--fill-color);\n",
              "      border-left-color: var(--fill-color);\n",
              "    }\n",
              "    20% {\n",
              "      border-color: transparent;\n",
              "      border-left-color: var(--fill-color);\n",
              "      border-top-color: var(--fill-color);\n",
              "    }\n",
              "    30% {\n",
              "      border-color: transparent;\n",
              "      border-left-color: var(--fill-color);\n",
              "      border-top-color: var(--fill-color);\n",
              "      border-right-color: var(--fill-color);\n",
              "    }\n",
              "    40% {\n",
              "      border-color: transparent;\n",
              "      border-right-color: var(--fill-color);\n",
              "      border-top-color: var(--fill-color);\n",
              "    }\n",
              "    60% {\n",
              "      border-color: transparent;\n",
              "      border-right-color: var(--fill-color);\n",
              "    }\n",
              "    80% {\n",
              "      border-color: transparent;\n",
              "      border-right-color: var(--fill-color);\n",
              "      border-bottom-color: var(--fill-color);\n",
              "    }\n",
              "    90% {\n",
              "      border-color: transparent;\n",
              "      border-bottom-color: var(--fill-color);\n",
              "    }\n",
              "  }\n",
              "</style>\n",
              "\n",
              "  <script>\n",
              "    async function quickchart(key) {\n",
              "      const quickchartButtonEl =\n",
              "        document.querySelector('#' + key + ' button');\n",
              "      quickchartButtonEl.disabled = true;  // To prevent multiple clicks.\n",
              "      quickchartButtonEl.classList.add('colab-df-spinner');\n",
              "      try {\n",
              "        const charts = await google.colab.kernel.invokeFunction(\n",
              "            'suggestCharts', [key], {});\n",
              "      } catch (error) {\n",
              "        console.error('Error during call to suggestCharts:', error);\n",
              "      }\n",
              "      quickchartButtonEl.classList.remove('colab-df-spinner');\n",
              "      quickchartButtonEl.classList.add('colab-df-quickchart-complete');\n",
              "    }\n",
              "    (() => {\n",
              "      let quickchartButtonEl =\n",
              "        document.querySelector('#df-9de0c8a3-d6b7-4dbe-af4a-436b3d0ff050 button');\n",
              "      quickchartButtonEl.style.display =\n",
              "        google.colab.kernel.accessAllowed ? 'block' : 'none';\n",
              "    })();\n",
              "  </script>\n",
              "</div>\n",
              "\n",
              "    </div>\n",
              "  </div>\n"
            ]
          },
          "metadata": {},
          "execution_count": 3
        }
      ]
    },
    {
      "cell_type": "code",
      "source": [
        "data.shape"
      ],
      "metadata": {
        "colab": {
          "base_uri": "https://localhost:8080/"
        },
        "id": "muSljwhXqF2X",
        "outputId": "786890e0-0265-4d07-97e7-d97d43e58fb9"
      },
      "execution_count": 4,
      "outputs": [
        {
          "output_type": "execute_result",
          "data": {
            "text/plain": [
              "(768, 8)"
            ]
          },
          "metadata": {},
          "execution_count": 4
        }
      ]
    },
    {
      "cell_type": "code",
      "source": [
        "x=data.iloc[:, 0:-1].values\n",
        "y_str=list(data.iloc[:, -1])"
      ],
      "metadata": {
        "id": "O1gb5z8qqRrZ"
      },
      "execution_count": 5,
      "outputs": []
    },
    {
      "cell_type": "code",
      "source": [
        "x"
      ],
      "metadata": {
        "colab": {
          "base_uri": "https://localhost:8080/"
        },
        "id": "Ifbzy2hRwS7W",
        "outputId": "600316d5-54bd-462c-ca11-571cfcaa735d"
      },
      "execution_count": 6,
      "outputs": [
        {
          "output_type": "execute_result",
          "data": {
            "text/plain": [
              "array([[  6. , 148. ,  72. , ...,   0. ,  33.6,  50. ],\n",
              "       [  1. ,  85. ,  66. , ...,   0. ,  26.6,  31. ],\n",
              "       [  8. , 183. ,  64. , ...,   0. ,  23.3,  32. ],\n",
              "       ...,\n",
              "       [  5. , 121. ,  72. , ..., 112. ,  26.2,  30. ],\n",
              "       [  1. , 126. ,  60. , ...,   0. ,  30.1,  47. ],\n",
              "       [  1. ,  93. ,  70. , ...,   0. ,  30.4,  23. ]])"
            ]
          },
          "metadata": {},
          "execution_count": 6
        }
      ]
    },
    {
      "cell_type": "code",
      "source": [
        "y_str"
      ],
      "metadata": {
        "id": "LAG5FvSzwUG3"
      },
      "execution_count": null,
      "outputs": []
    },
    {
      "cell_type": "markdown",
      "source": [
        "## Preprocessing the data"
      ],
      "metadata": {
        "id": "w_gBLBsvZcZD"
      }
    },
    {
      "cell_type": "code",
      "source": [
        "# convert the string to values\n",
        "y_int=[]\n",
        "for label in y_str:\n",
        "  if(label=='positive'):\n",
        "    y_int.append(1)\n",
        "  else: y_int.append(0)"
      ],
      "metadata": {
        "id": "LfPFNttBvnoy"
      },
      "execution_count": 8,
      "outputs": []
    },
    {
      "cell_type": "code",
      "source": [
        "# as the x is a float values so y will also be a float value\n",
        "y=np.array(y_int, dtype='float64')\n",
        "y"
      ],
      "metadata": {
        "id": "gIM23umewqQE"
      },
      "execution_count": null,
      "outputs": []
    },
    {
      "cell_type": "code",
      "source": [
        "sc=StandardScaler()\n",
        "x=sc.fit_transform(x)\n",
        "x"
      ],
      "metadata": {
        "id": "xVFQNMduw1Rh"
      },
      "execution_count": null,
      "outputs": []
    },
    {
      "cell_type": "code",
      "source": [
        "x=torch.tensor(x)\n",
        "y=torch.tensor(y).unsqueeze(1)"
      ],
      "metadata": {
        "id": "acKe3seWx1rn"
      },
      "execution_count": 11,
      "outputs": []
    },
    {
      "cell_type": "code",
      "source": [
        "print(x.shape, y.shape)"
      ],
      "metadata": {
        "colab": {
          "base_uri": "https://localhost:8080/"
        },
        "id": "OrXlEb1_x1p2",
        "outputId": "2dfd34c2-35b9-4982-b032-cc9fa943ad4a"
      },
      "execution_count": 12,
      "outputs": [
        {
          "output_type": "stream",
          "name": "stdout",
          "text": [
            "torch.Size([768, 7]) torch.Size([768, 1])\n"
          ]
        }
      ]
    },
    {
      "cell_type": "code",
      "source": [
        "y.shape"
      ],
      "metadata": {
        "colab": {
          "base_uri": "https://localhost:8080/"
        },
        "id": "z4J1cm0Dy3Yz",
        "outputId": "fb7ab3d2-d402-4908-f8b4-f82dac92703f"
      },
      "execution_count": 13,
      "outputs": [
        {
          "output_type": "execute_result",
          "data": {
            "text/plain": [
              "torch.Size([768, 1])"
            ]
          },
          "metadata": {},
          "execution_count": 13
        }
      ]
    },
    {
      "cell_type": "code",
      "source": [
        "class Dataset(Dataset):\n",
        "  def __init__(self, x, y):\n",
        "    self.x=x\n",
        "    self.y=y\n",
        "\n",
        "  def __getitem__(self, index):\n",
        "    return self.x[index], self.y[index]\n",
        "\n",
        "  def __len__(self):\n",
        "    return len(self.x)\n"
      ],
      "metadata": {
        "id": "C9LGxCONzPsw"
      },
      "execution_count": 14,
      "outputs": []
    },
    {
      "cell_type": "code",
      "source": [
        "dataset=Dataset(x,y)\n"
      ],
      "metadata": {
        "id": "91y-d3ej1p7v"
      },
      "execution_count": 15,
      "outputs": []
    },
    {
      "cell_type": "code",
      "source": [
        "len(dataset)"
      ],
      "metadata": {
        "colab": {
          "base_uri": "https://localhost:8080/"
        },
        "id": "OmSCLvFA1t5I",
        "outputId": "defc9e65-0406-44d2-de32-738679b5a93d"
      },
      "execution_count": 16,
      "outputs": [
        {
          "output_type": "execute_result",
          "data": {
            "text/plain": [
              "768"
            ]
          },
          "metadata": {},
          "execution_count": 16
        }
      ]
    },
    {
      "cell_type": "code",
      "source": [
        "# loading the data\n",
        "trainloader=torch.utils.data.DataLoader(dataset=dataset,\n",
        "                                        shuffle=True,\n",
        "                                        batch_size=32)\n"
      ],
      "metadata": {
        "id": "SgxqGGRd1whY"
      },
      "execution_count": 17,
      "outputs": []
    },
    {
      "cell_type": "markdown",
      "source": [
        "## Building the neural network"
      ],
      "metadata": {
        "id": "4tBSndlm3KQ3"
      }
    },
    {
      "cell_type": "code",
      "source": [
        "class MyNetwork(nn.Module):\n",
        "  def __init__(self, input_layers, output_layers):\n",
        "    super(MyNetwork, self).__init__()\n",
        "    self.fc1=nn.Linear(input_layers, 5)\n",
        "    self.fc2=nn.Linear(5,4)\n",
        "    self.fc3=nn.Linear(4, output_layers)\n",
        "    self.tanh=nn.Tanh()\n",
        "    self.sigmoid=nn.Sigmoid()\n",
        "\n",
        "  def forward(self, x):\n",
        "    x=self.fc1(x)\n",
        "    x=self.tanh(x)\n",
        "    x=self.fc2(x)\n",
        "    x=self.tanh(x)\n",
        "    x=self.fc3(x)\n",
        "    out=self.sigmoid(x)\n",
        "    return out.float()\n",
        "\n"
      ],
      "metadata": {
        "id": "vZwdtcin3O_f"
      },
      "execution_count": 18,
      "outputs": []
    },
    {
      "cell_type": "code",
      "source": [
        "model=MyNetwork(7, 1)\n",
        "# loss function\n",
        "criterion=torch.nn.BCELoss()\n",
        "#optimizer\n",
        "optimizer=torch.optim.SGD(model.parameters(), lr=0.001, momentum=0.9)"
      ],
      "metadata": {
        "id": "Q2Cjiba-GYhd"
      },
      "execution_count": 19,
      "outputs": []
    },
    {
      "cell_type": "markdown",
      "source": [
        "### Training the network"
      ],
      "metadata": {
        "id": "EST5mrMiGzVx"
      }
    },
    {
      "cell_type": "code",
      "source": [
        "epoch=200\n",
        "\n",
        "losses = []\n",
        "accuracies = []\n",
        "for e in range(epoch):\n",
        "  running_loss=0\n",
        "  for x, y in trainloader:\n",
        "    x=x.float()\n",
        "    y=y.float()\n",
        "    out=model.forward(x)\n",
        "    optimizer.zero_grad()\n",
        "    loss=criterion( out.double(),y.double())\n",
        "    loss.backward()\n",
        "    optimizer.step()\n",
        "    running_loss+=loss.item()\n",
        "\n",
        "  losses.append(running_loss)\n",
        "  output=(out>0.5).float()\n",
        "  accuracy=(output==y).float().mean()\n",
        "  accuracies.append(accuracy.item())\n",
        "  print(f'Epoch: {e+1}, Loss: {running_loss:.3f}, Accuracy: {accuracy.item(): .3f}')\n",
        "\n"
      ],
      "metadata": {
        "colab": {
          "base_uri": "https://localhost:8080/"
        },
        "id": "m4GPozPqG3pD",
        "outputId": "71b2e2e9-2eba-4697-d34b-16d81ac6f597"
      },
      "execution_count": 46,
      "outputs": [
        {
          "output_type": "stream",
          "name": "stdout",
          "text": [
            "Epoch: 1, Loss: 9.492, Accuracy:  0.875\n",
            "Epoch: 2, Loss: 9.493, Accuracy:  0.750\n",
            "Epoch: 3, Loss: 9.491, Accuracy:  0.750\n",
            "Epoch: 4, Loss: 9.493, Accuracy:  0.750\n",
            "Epoch: 5, Loss: 9.487, Accuracy:  0.812\n",
            "Epoch: 6, Loss: 9.491, Accuracy:  0.781\n",
            "Epoch: 7, Loss: 9.493, Accuracy:  0.781\n",
            "Epoch: 8, Loss: 9.493, Accuracy:  0.938\n",
            "Epoch: 9, Loss: 9.491, Accuracy:  0.875\n",
            "Epoch: 10, Loss: 9.493, Accuracy:  0.812\n",
            "Epoch: 11, Loss: 9.491, Accuracy:  0.781\n",
            "Epoch: 12, Loss: 9.487, Accuracy:  0.688\n",
            "Epoch: 13, Loss: 9.487, Accuracy:  0.875\n",
            "Epoch: 14, Loss: 9.490, Accuracy:  0.875\n",
            "Epoch: 15, Loss: 9.490, Accuracy:  0.781\n",
            "Epoch: 16, Loss: 9.488, Accuracy:  0.906\n",
            "Epoch: 17, Loss: 9.490, Accuracy:  0.781\n",
            "Epoch: 18, Loss: 9.489, Accuracy:  0.875\n",
            "Epoch: 19, Loss: 9.484, Accuracy:  0.750\n",
            "Epoch: 20, Loss: 9.485, Accuracy:  0.938\n",
            "Epoch: 21, Loss: 9.484, Accuracy:  0.781\n",
            "Epoch: 22, Loss: 9.489, Accuracy:  0.781\n",
            "Epoch: 23, Loss: 9.489, Accuracy:  0.719\n",
            "Epoch: 24, Loss: 9.486, Accuracy:  0.906\n",
            "Epoch: 25, Loss: 9.487, Accuracy:  0.844\n",
            "Epoch: 26, Loss: 9.491, Accuracy:  0.906\n",
            "Epoch: 27, Loss: 9.489, Accuracy:  0.875\n",
            "Epoch: 28, Loss: 9.490, Accuracy:  0.844\n",
            "Epoch: 29, Loss: 9.483, Accuracy:  0.938\n",
            "Epoch: 30, Loss: 9.489, Accuracy:  0.750\n",
            "Epoch: 31, Loss: 9.486, Accuracy:  0.969\n",
            "Epoch: 32, Loss: 9.489, Accuracy:  0.812\n",
            "Epoch: 33, Loss: 9.488, Accuracy:  0.906\n",
            "Epoch: 34, Loss: 9.482, Accuracy:  0.844\n",
            "Epoch: 35, Loss: 9.486, Accuracy:  0.906\n",
            "Epoch: 36, Loss: 9.487, Accuracy:  0.812\n",
            "Epoch: 37, Loss: 9.492, Accuracy:  0.812\n",
            "Epoch: 38, Loss: 9.481, Accuracy:  0.938\n",
            "Epoch: 39, Loss: 9.483, Accuracy:  0.750\n",
            "Epoch: 40, Loss: 9.483, Accuracy:  0.719\n",
            "Epoch: 41, Loss: 9.487, Accuracy:  0.969\n",
            "Epoch: 42, Loss: 9.482, Accuracy:  0.875\n",
            "Epoch: 43, Loss: 9.484, Accuracy:  0.844\n",
            "Epoch: 44, Loss: 9.482, Accuracy:  0.906\n",
            "Epoch: 45, Loss: 9.479, Accuracy:  0.688\n",
            "Epoch: 46, Loss: 9.480, Accuracy:  0.938\n",
            "Epoch: 47, Loss: 9.486, Accuracy:  0.844\n",
            "Epoch: 48, Loss: 9.490, Accuracy:  0.844\n",
            "Epoch: 49, Loss: 9.479, Accuracy:  0.750\n",
            "Epoch: 50, Loss: 9.482, Accuracy:  0.812\n",
            "Epoch: 51, Loss: 9.482, Accuracy:  0.844\n",
            "Epoch: 52, Loss: 9.480, Accuracy:  0.844\n",
            "Epoch: 53, Loss: 9.480, Accuracy:  0.844\n",
            "Epoch: 54, Loss: 9.478, Accuracy:  0.938\n",
            "Epoch: 55, Loss: 9.480, Accuracy:  0.844\n",
            "Epoch: 56, Loss: 9.485, Accuracy:  0.844\n",
            "Epoch: 57, Loss: 9.482, Accuracy:  0.812\n",
            "Epoch: 58, Loss: 9.483, Accuracy:  0.750\n",
            "Epoch: 59, Loss: 9.480, Accuracy:  0.875\n",
            "Epoch: 60, Loss: 9.482, Accuracy:  0.844\n",
            "Epoch: 61, Loss: 9.474, Accuracy:  0.875\n",
            "Epoch: 62, Loss: 9.478, Accuracy:  0.812\n",
            "Epoch: 63, Loss: 9.480, Accuracy:  0.906\n",
            "Epoch: 64, Loss: 9.478, Accuracy:  0.812\n",
            "Epoch: 65, Loss: 9.478, Accuracy:  0.781\n",
            "Epoch: 66, Loss: 9.484, Accuracy:  0.781\n",
            "Epoch: 67, Loss: 9.478, Accuracy:  0.781\n",
            "Epoch: 68, Loss: 9.481, Accuracy:  0.844\n",
            "Epoch: 69, Loss: 9.482, Accuracy:  0.906\n",
            "Epoch: 70, Loss: 9.478, Accuracy:  0.844\n",
            "Epoch: 71, Loss: 9.481, Accuracy:  0.812\n",
            "Epoch: 72, Loss: 9.476, Accuracy:  0.781\n",
            "Epoch: 73, Loss: 9.475, Accuracy:  0.812\n",
            "Epoch: 74, Loss: 9.475, Accuracy:  0.688\n",
            "Epoch: 75, Loss: 9.476, Accuracy:  0.875\n",
            "Epoch: 76, Loss: 9.476, Accuracy:  0.812\n",
            "Epoch: 77, Loss: 9.478, Accuracy:  0.906\n",
            "Epoch: 78, Loss: 9.478, Accuracy:  0.844\n",
            "Epoch: 79, Loss: 9.481, Accuracy:  0.875\n",
            "Epoch: 80, Loss: 9.475, Accuracy:  0.812\n",
            "Epoch: 81, Loss: 9.474, Accuracy:  0.844\n",
            "Epoch: 82, Loss: 9.476, Accuracy:  0.812\n",
            "Epoch: 83, Loss: 9.473, Accuracy:  0.750\n",
            "Epoch: 84, Loss: 9.471, Accuracy:  0.906\n",
            "Epoch: 85, Loss: 9.470, Accuracy:  0.938\n",
            "Epoch: 86, Loss: 9.474, Accuracy:  0.688\n",
            "Epoch: 87, Loss: 9.472, Accuracy:  0.844\n",
            "Epoch: 88, Loss: 9.473, Accuracy:  0.969\n",
            "Epoch: 89, Loss: 9.478, Accuracy:  0.875\n",
            "Epoch: 90, Loss: 9.471, Accuracy:  0.906\n",
            "Epoch: 91, Loss: 9.474, Accuracy:  0.812\n",
            "Epoch: 92, Loss: 9.473, Accuracy:  0.875\n",
            "Epoch: 93, Loss: 9.472, Accuracy:  0.875\n",
            "Epoch: 94, Loss: 9.470, Accuracy:  0.875\n",
            "Epoch: 95, Loss: 9.477, Accuracy:  0.875\n",
            "Epoch: 96, Loss: 9.470, Accuracy:  0.938\n",
            "Epoch: 97, Loss: 9.468, Accuracy:  0.781\n",
            "Epoch: 98, Loss: 9.471, Accuracy:  0.750\n",
            "Epoch: 99, Loss: 9.470, Accuracy:  0.875\n",
            "Epoch: 100, Loss: 9.477, Accuracy:  0.812\n",
            "Epoch: 101, Loss: 9.469, Accuracy:  0.781\n",
            "Epoch: 102, Loss: 9.469, Accuracy:  0.938\n",
            "Epoch: 103, Loss: 9.472, Accuracy:  0.750\n",
            "Epoch: 104, Loss: 9.473, Accuracy:  0.875\n",
            "Epoch: 105, Loss: 9.469, Accuracy:  0.688\n",
            "Epoch: 106, Loss: 9.466, Accuracy:  0.812\n",
            "Epoch: 107, Loss: 9.474, Accuracy:  0.812\n",
            "Epoch: 108, Loss: 9.468, Accuracy:  0.812\n",
            "Epoch: 109, Loss: 9.466, Accuracy:  0.812\n",
            "Epoch: 110, Loss: 9.466, Accuracy:  0.812\n",
            "Epoch: 111, Loss: 9.466, Accuracy:  0.750\n",
            "Epoch: 112, Loss: 9.468, Accuracy:  0.719\n",
            "Epoch: 113, Loss: 9.470, Accuracy:  0.844\n",
            "Epoch: 114, Loss: 9.467, Accuracy:  0.781\n",
            "Epoch: 115, Loss: 9.475, Accuracy:  0.781\n",
            "Epoch: 116, Loss: 9.465, Accuracy:  0.656\n",
            "Epoch: 117, Loss: 9.470, Accuracy:  0.781\n",
            "Epoch: 118, Loss: 9.472, Accuracy:  0.719\n",
            "Epoch: 119, Loss: 9.467, Accuracy:  0.688\n",
            "Epoch: 120, Loss: 9.464, Accuracy:  0.750\n",
            "Epoch: 121, Loss: 9.465, Accuracy:  0.938\n",
            "Epoch: 122, Loss: 9.466, Accuracy:  0.750\n",
            "Epoch: 123, Loss: 9.467, Accuracy:  0.719\n",
            "Epoch: 124, Loss: 9.467, Accuracy:  0.812\n",
            "Epoch: 125, Loss: 9.464, Accuracy:  0.844\n",
            "Epoch: 126, Loss: 9.469, Accuracy:  0.750\n",
            "Epoch: 127, Loss: 9.474, Accuracy:  0.750\n",
            "Epoch: 128, Loss: 9.461, Accuracy:  0.844\n",
            "Epoch: 129, Loss: 9.462, Accuracy:  0.781\n",
            "Epoch: 130, Loss: 9.461, Accuracy:  0.844\n",
            "Epoch: 131, Loss: 9.466, Accuracy:  0.812\n",
            "Epoch: 132, Loss: 9.469, Accuracy:  0.719\n",
            "Epoch: 133, Loss: 9.466, Accuracy:  0.875\n",
            "Epoch: 134, Loss: 9.465, Accuracy:  0.812\n",
            "Epoch: 135, Loss: 9.466, Accuracy:  0.875\n",
            "Epoch: 136, Loss: 9.461, Accuracy:  0.781\n",
            "Epoch: 137, Loss: 9.462, Accuracy:  0.844\n",
            "Epoch: 138, Loss: 9.465, Accuracy:  1.000\n",
            "Epoch: 139, Loss: 9.462, Accuracy:  0.812\n",
            "Epoch: 140, Loss: 9.463, Accuracy:  0.781\n",
            "Epoch: 141, Loss: 9.456, Accuracy:  0.906\n",
            "Epoch: 142, Loss: 9.461, Accuracy:  0.875\n",
            "Epoch: 143, Loss: 9.460, Accuracy:  0.812\n",
            "Epoch: 144, Loss: 9.464, Accuracy:  0.812\n",
            "Epoch: 145, Loss: 9.462, Accuracy:  0.750\n",
            "Epoch: 146, Loss: 9.468, Accuracy:  0.812\n",
            "Epoch: 147, Loss: 9.462, Accuracy:  0.906\n",
            "Epoch: 148, Loss: 9.461, Accuracy:  0.938\n",
            "Epoch: 149, Loss: 9.461, Accuracy:  0.812\n",
            "Epoch: 150, Loss: 9.462, Accuracy:  0.781\n",
            "Epoch: 151, Loss: 9.467, Accuracy:  0.781\n",
            "Epoch: 152, Loss: 9.456, Accuracy:  0.781\n",
            "Epoch: 153, Loss: 9.459, Accuracy:  0.750\n",
            "Epoch: 154, Loss: 9.459, Accuracy:  0.938\n",
            "Epoch: 155, Loss: 9.456, Accuracy:  0.844\n",
            "Epoch: 156, Loss: 9.455, Accuracy:  0.750\n",
            "Epoch: 157, Loss: 9.463, Accuracy:  0.875\n",
            "Epoch: 158, Loss: 9.454, Accuracy:  0.906\n",
            "Epoch: 159, Loss: 9.458, Accuracy:  0.812\n",
            "Epoch: 160, Loss: 9.455, Accuracy:  0.844\n",
            "Epoch: 161, Loss: 9.455, Accuracy:  0.906\n",
            "Epoch: 162, Loss: 9.458, Accuracy:  0.844\n",
            "Epoch: 163, Loss: 9.458, Accuracy:  0.719\n",
            "Epoch: 164, Loss: 9.459, Accuracy:  0.812\n",
            "Epoch: 165, Loss: 9.459, Accuracy:  0.719\n",
            "Epoch: 166, Loss: 9.473, Accuracy:  0.906\n",
            "Epoch: 167, Loss: 9.458, Accuracy:  0.688\n",
            "Epoch: 168, Loss: 9.457, Accuracy:  0.719\n",
            "Epoch: 169, Loss: 9.456, Accuracy:  0.844\n",
            "Epoch: 170, Loss: 9.455, Accuracy:  0.875\n",
            "Epoch: 171, Loss: 9.456, Accuracy:  0.812\n",
            "Epoch: 172, Loss: 9.453, Accuracy:  0.844\n",
            "Epoch: 173, Loss: 9.456, Accuracy:  0.938\n",
            "Epoch: 174, Loss: 9.455, Accuracy:  0.625\n",
            "Epoch: 175, Loss: 9.454, Accuracy:  0.875\n",
            "Epoch: 176, Loss: 9.456, Accuracy:  0.781\n",
            "Epoch: 177, Loss: 9.454, Accuracy:  0.969\n",
            "Epoch: 178, Loss: 9.454, Accuracy:  0.844\n",
            "Epoch: 179, Loss: 9.451, Accuracy:  0.812\n",
            "Epoch: 180, Loss: 9.457, Accuracy:  0.812\n",
            "Epoch: 181, Loss: 9.452, Accuracy:  0.906\n",
            "Epoch: 182, Loss: 9.451, Accuracy:  0.812\n",
            "Epoch: 183, Loss: 9.458, Accuracy:  0.719\n",
            "Epoch: 184, Loss: 9.452, Accuracy:  0.812\n",
            "Epoch: 185, Loss: 9.457, Accuracy:  0.812\n",
            "Epoch: 186, Loss: 9.453, Accuracy:  0.875\n",
            "Epoch: 187, Loss: 9.456, Accuracy:  0.812\n",
            "Epoch: 188, Loss: 9.454, Accuracy:  0.844\n",
            "Epoch: 189, Loss: 9.459, Accuracy:  0.781\n",
            "Epoch: 190, Loss: 9.449, Accuracy:  0.844\n",
            "Epoch: 191, Loss: 9.453, Accuracy:  0.781\n",
            "Epoch: 192, Loss: 9.453, Accuracy:  0.844\n",
            "Epoch: 193, Loss: 9.450, Accuracy:  0.844\n",
            "Epoch: 194, Loss: 9.454, Accuracy:  0.812\n",
            "Epoch: 195, Loss: 9.450, Accuracy:  0.875\n",
            "Epoch: 196, Loss: 9.448, Accuracy:  0.906\n",
            "Epoch: 197, Loss: 9.450, Accuracy:  0.750\n",
            "Epoch: 198, Loss: 9.446, Accuracy:  0.844\n",
            "Epoch: 199, Loss: 9.449, Accuracy:  0.781\n",
            "Epoch: 200, Loss: 9.447, Accuracy:  0.781\n"
          ]
        }
      ]
    },
    {
      "cell_type": "code",
      "source": [
        "import matplotlib.pyplot as plt\n",
        "print(accuracies)"
      ],
      "metadata": {
        "colab": {
          "base_uri": "https://localhost:8080/"
        },
        "id": "EfA_VGQXXR7z",
        "outputId": "8ebf4dc7-81a5-43b1-fc80-4ad0bb7c06e3"
      },
      "execution_count": 47,
      "outputs": [
        {
          "output_type": "stream",
          "name": "stdout",
          "text": [
            "[0.875, 0.75, 0.75, 0.75, 0.8125, 0.78125, 0.78125, 0.9375, 0.875, 0.8125, 0.78125, 0.6875, 0.875, 0.875, 0.78125, 0.90625, 0.78125, 0.875, 0.75, 0.9375, 0.78125, 0.78125, 0.71875, 0.90625, 0.84375, 0.90625, 0.875, 0.84375, 0.9375, 0.75, 0.96875, 0.8125, 0.90625, 0.84375, 0.90625, 0.8125, 0.8125, 0.9375, 0.75, 0.71875, 0.96875, 0.875, 0.84375, 0.90625, 0.6875, 0.9375, 0.84375, 0.84375, 0.75, 0.8125, 0.84375, 0.84375, 0.84375, 0.9375, 0.84375, 0.84375, 0.8125, 0.75, 0.875, 0.84375, 0.875, 0.8125, 0.90625, 0.8125, 0.78125, 0.78125, 0.78125, 0.84375, 0.90625, 0.84375, 0.8125, 0.78125, 0.8125, 0.6875, 0.875, 0.8125, 0.90625, 0.84375, 0.875, 0.8125, 0.84375, 0.8125, 0.75, 0.90625, 0.9375, 0.6875, 0.84375, 0.96875, 0.875, 0.90625, 0.8125, 0.875, 0.875, 0.875, 0.875, 0.9375, 0.78125, 0.75, 0.875, 0.8125, 0.78125, 0.9375, 0.75, 0.875, 0.6875, 0.8125, 0.8125, 0.8125, 0.8125, 0.8125, 0.75, 0.71875, 0.84375, 0.78125, 0.78125, 0.65625, 0.78125, 0.71875, 0.6875, 0.75, 0.9375, 0.75, 0.71875, 0.8125, 0.84375, 0.75, 0.75, 0.84375, 0.78125, 0.84375, 0.8125, 0.71875, 0.875, 0.8125, 0.875, 0.78125, 0.84375, 1.0, 0.8125, 0.78125, 0.90625, 0.875, 0.8125, 0.8125, 0.75, 0.8125, 0.90625, 0.9375, 0.8125, 0.78125, 0.78125, 0.78125, 0.75, 0.9375, 0.84375, 0.75, 0.875, 0.90625, 0.8125, 0.84375, 0.90625, 0.84375, 0.71875, 0.8125, 0.71875, 0.90625, 0.6875, 0.71875, 0.84375, 0.875, 0.8125, 0.84375, 0.9375, 0.625, 0.875, 0.78125, 0.96875, 0.84375, 0.8125, 0.8125, 0.90625, 0.8125, 0.71875, 0.8125, 0.8125, 0.875, 0.8125, 0.84375, 0.78125, 0.84375, 0.78125, 0.84375, 0.84375, 0.8125, 0.875, 0.90625, 0.75, 0.84375, 0.78125, 0.78125]\n"
          ]
        }
      ]
    },
    {
      "cell_type": "code",
      "source": [
        "# Plotting the learning curve\n",
        "plt.figure(figsize=(10, 5))\n",
        "\n",
        "# Plotting the loss\n",
        "plt.subplot(1, 2, 1)\n",
        "plt.plot(losses, label='Training Loss')\n",
        "plt.title('Training Loss')\n",
        "plt.xlabel('Epoch')\n",
        "plt.ylabel('Loss')\n",
        "plt.legend()\n",
        "\n",
        "# Plotting the accuracy\n",
        "plt.subplot(1, 2, 2)\n",
        "plt.plot(accuracies, label='Training Accuracy')\n",
        "plt.title('Training Accuracy')\n",
        "plt.xlabel('Epoch')\n",
        "plt.ylabel('Accuracy')\n",
        "plt.legend()\n",
        "\n",
        "plt.tight_layout()\n",
        "plt.show()"
      ],
      "metadata": {
        "id": "9xnbFrU3XQgp"
      },
      "execution_count": null,
      "outputs": []
    }
  ]
}